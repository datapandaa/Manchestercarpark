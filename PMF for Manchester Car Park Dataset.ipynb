{
 "cells": [
  {
   "cell_type": "code",
   "execution_count": 7,
   "id": "219d4d2f",
   "metadata": {},
   "outputs": [],
   "source": [
    "import seaborn as sns\n",
    "import matplotlib.pyplot as plt\n",
    "import numpy as np\n",
    "import pandas as pd\n",
    "\n",
    "df = pd.read_csv(\"ParkingSpaces.csv\")"
   ]
  },
  {
   "cell_type": "code",
   "execution_count": 59,
   "id": "6bd6cfea",
   "metadata": {},
   "outputs": [
    {
     "name": "stdout",
     "output_type": "stream",
     "text": [
      "                  Effective  Order_type  Street_nam  start  finish\n",
      "EstParkingPlaces                                                  \n",
      "1                       636         636         636    636     636\n",
      "2                       332         332         332    332     332\n",
      "3                       322         322         322    322     322\n",
      "4                       300         300         300    300     300\n",
      "5                       232         232         232    232     232\n",
      "6                       157         157         157    157     157\n",
      "7                       128         128         128    128     128\n",
      "8                        93          93          93     93      93\n",
      "9                        44          44          44     44      44\n",
      "10                       45          45          45     45      45\n",
      "11                       39          39          39     39      39\n",
      "12                       26          26          26     26      26\n",
      "13                       16          16          16     16      16\n",
      "14                       20          20          20     20      20\n",
      "15                        7           7           7      7       7\n",
      "16                       10          10          10     10      10\n",
      "17                        6           6           6      6       6\n",
      "18                        7           7           7      7       7\n",
      "19                        3           3           3      3       3\n",
      "20                        2           2           2      2       2\n",
      "21                        1           1           1      1       1\n",
      "22                        2           2           2      2       2\n",
      "23                        3           3           3      3       3\n",
      "24                        3           3           3      3       3\n",
      "25                        4           4           4      4       4\n",
      "26                        4           4           4      4       4\n",
      "28                        2           2           2      2       2\n",
      "29                        3           3           3      3       3\n",
      "31                        2           2           2      2       2\n",
      "34                        2           2           2      2       2\n",
      "38                        1           1           1      1       1\n",
      "40                        1           1           1      1       1\n",
      "42                        2           2           2      2       2\n",
      "47                        1           1           1      1       1\n",
      "48                        1           1           1      1       1\n",
      "51                        1           1           1      1       1\n",
      "55                        1           1           1      1       1\n",
      "63                        1           1           1      1       1\n",
      "65                        1           1           1      1       1\n",
      "68                        1           1           1      1       1\n",
      "71                        1           1           1      1       1\n",
      "78                        1           1           1      1       1\n",
      "84                        1           1           1      1       1\n",
      "142                       1           1           1      1       1\n",
      "[  1. 142.]\n"
     ]
    }
   ],
   "source": [
    "samp = df.loc[:,\"EstParkingPlaces\"]\n",
    "df1 = df.groupby(samp).count()\n",
    "print(df1)\n",
    "print (np.percentile(samp, [0, 100]))\n"
   ]
  },
  {
   "cell_type": "code",
   "execution_count": 66,
   "id": "b7b68361",
   "metadata": {},
   "outputs": [
    {
     "data": {
      "image/png": "[encoded data removed]",
      "text/plain": [
       "<Figure size 720x576 with 1 Axes>"
      ]
     },
     "metadata": {
      "needs_background": "light"
     },
     "output_type": "display_data"
    }
   ],
   "source": [
    "##binwidth = 1\n",
    "samp = df.loc[:,\"EstParkingPlaces\"]\n",
    "fig, ax = plt.subplots()\n",
    "plt.ylabel('PMF')\n",
    "plt.xlabel('Park Spaces')\n",
    "sns.histplot(samp, stat='probability', bins=1, binwidth=1)\n",
    "ax.set_xlim(1,30)\n",
    "ax.set_xticks(range(1,30))\n",
    "fig.set_size_inches(10,8)\n",
    "plt.show()"
   ]
  },
  {
   "cell_type": "code",
   "execution_count": 67,
   "id": "955d0d4e",
   "metadata": {},
   "outputs": [
    {
     "data": {
      "image/png": "[encoded data removed]",
      "text/plain": [
       "<Figure size 720x576 with 1 Axes>"
      ]
     },
     "metadata": {
      "needs_background": "light"
     },
     "output_type": "display_data"
    }
   ],
   "source": [
    "###binwidth = 5\n",
    "samp = df.loc[:,\"EstParkingPlaces\"]\n",
    "fig, ax = plt.subplots()\n",
    "plt.ylabel('PMF')\n",
    "plt.xlabel('Park Spaces')\n",
    "sns.histplot(samp, stat='probability', bins=1, binwidth=5)\n",
    "ax.set_xlim(1,30)\n",
    "ax.set_xticks(range(1,30))\n",
    "fig.set_size_inches(10,8)\n",
    "plt.show()"
   ]
  }
 ],
 "metadata": {
  "kernelspec": {
   "display_name": "Python 3 (ipykernel)",
   "language": "python",
   "name": "python3"
  },
  "language_info": {
   "codemirror_mode": {
    "name": "ipython",
    "version": 3
   },
   "file_extension": ".py",
   "mimetype": "text/x-python",
   "name": "python",
   "nbconvert_exporter": "python",
   "pygments_lexer": "ipython3",
   "version": "3.9.12"
  }
 },
 "nbformat": 4,
 "nbformat_minor": 5
}
